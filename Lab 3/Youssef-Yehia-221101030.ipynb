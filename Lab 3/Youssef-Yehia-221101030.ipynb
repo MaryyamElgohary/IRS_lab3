{
  "cells": [
    {
      "cell_type": "code",
      "source": [
        "import numpy as np\n",
        "\n",
        "def cosine_similarity(user1, user2):\n",
        "    mask = (user1 != 0) & (user2 != 0)\n",
        "\n",
        "    if not np.any(mask):\n",
        "        return 0\n",
        "\n",
        "    u1 = user1[mask]\n",
        "    u2 = user2[mask]\n",
        "\n",
        "    dot_product = np.sum(u1 * u2)\n",
        "\n",
        "    magnitude1 = np.sqrt(np.sum(u1**2))\n",
        "    magnitude2 = np.sqrt(np.sum(u2**2))\n",
        "\n",
        "    if magnitude1 == 0 or magnitude2 == 0:\n",
        "        return 0\n",
        "\n",
        "    return dot_product / (magnitude1 * magnitude2)\n",
        "\n",
        "\n",
        "user_A = np.array([5, 3, 0, 4, 2])\n",
        "user_B = np.array([3, 0, 2, 3, 0])\n",
        "user_C = np.array([4, 3, 4, 5, 3])\n",
        "\n",
        "similarity_AB = cosine_similarity(user_A, user_B)\n",
        "similarity_AC = cosine_similarity(user_A, user_C)\n",
        "\n",
        "print(f\"Cosine Similarity A-B: {similarity_AB:.3f}\")\n",
        "print(f\"Cosine Similarity A-C: {similarity_AC:.3f}\")\n"
      ],
      "metadata": {
        "id": "vko8noFIsLj6"
      },
      "execution_count": null,
      "outputs": []
    }
  ],
  "metadata": {
    "colab": {
      "name": "Welcome to Colab",
      "provenance": []
    },
    "kernelspec": {
      "display_name": "Python 3",
      "name": "python3"
    }
  },
  "nbformat": 4,
  "nbformat_minor": 0
}
