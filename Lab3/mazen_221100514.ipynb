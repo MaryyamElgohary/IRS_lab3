{
  "nbformat": 4,
  "nbformat_minor": 0,
  "metadata": {
    "colab": {
      "provenance": []
    },
    "kernelspec": {
      "name": "python3",
      "display_name": "Python 3"
    },
    "language_info": {
      "name": "python"
    }
  },
  "cells": [
    {
      "cell_type": "code",
      "execution_count": null,
      "metadata": {
        "id": "RQMvr7otrQy-"
      },
      "outputs": [],
      "source": [
        "import numpy as np\n"
      ]
    },
    {
      "cell_type": "code",
      "execution_count": null,
      "metadata": {
        "id": "YEGWRZZTsbDj"
      },
      "outputs": [],
      "source": [
        "import numpy as np\n",
        "\n",
        "def cosine_similarity(user1, user2):\n",
        "    mask = (user1 != 0) & (user2 != 0)\n",
        "\n",
        "    if not np.any(mask):\n",
        "        return 0\n",
        "\n",
        "    u1 = user1[mask]\n",
        "    u2 = user2[mask]\n",
        "\n",
        "    dot_product = np.sum(u1 * u2)\n",
        "\n",
        "    magnitude1 = np.sqrt(np.sum(u1**2))\n",
        "    magnitude2 = np.sqrt(np.sum(u2**2))\n",
        "\n",
        "    if magnitude1 == 0 or magnitude2 == 0:\n",
        "        return 0\n",
        "\n",
        "    return dot_product / (magnitude1 * magnitude2)"
      ]
    },
    {
      "cell_type": "code",
      "source": [
        "user_A = np.array([5, 3, 0, 4, 0, 2])\n",
        "user_B = np.array([3, 0, 2, 3, 3, 0])\n",
        "user_C = np.array([4, 3, 4, 3, 5, 3])\n",
        "\n",
        "similarity_AB = cosine_similarity(user_A, user_B)\n",
        "similarity_AC = cosine_similarity(user_A, user_C)\n",
        "\n",
        "print(f\"Cosine Similarity A-B: {similarity_AB:.3f}\")\n",
        "print(f\"Cosine Similarity A-C: {similarity_AC:.3f}\")"
      ],
      "metadata": {
        "colab": {
          "base_uri": "https://localhost:8080/"
        },
        "id": "b5anJAH6sc9a",
        "outputId": "a7e32140-302a-45eb-81d9-d116b861350d"
      },
      "execution_count": null,
      "outputs": [
        {
          "output_type": "stream",
          "name": "stdout",
          "text": [
            "Cosine Similarity A-B: 0.994\n",
            "Cosine Similarity A-C: 0.975\n"
          ]
        }
      ]
    }
  ]
}