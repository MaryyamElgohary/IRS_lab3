{
  "nbformat": 4,
  "nbformat_minor": 0,
  "metadata": {
    "colab": {
      "provenance": []
    },
    "kernelspec": {
      "name": "python3",
      "display_name": "Python 3"
    },
    "language_info": {
      "name": "python"
    }
  },
  "cells": [
    {
      "cell_type": "code",
      "execution_count": 1,
      "metadata": {
        "id": "PFhgFCegqKq0"
      },
      "outputs": [],
      "source": [
        "import numpy as np"
      ]
    },
    {
      "cell_type": "code",
      "source": [
        "def cossine_similarity(user1,user2):\n",
        "  mask=(user1 !=0) & (user2 != 0)\n",
        "  if not np.any(mask):\n",
        "    return 0\n",
        "  u1 = user1[mask]\n",
        "  u2=  user2[mask]\n",
        "  #dotproduct\n",
        "  dot_product=np.sum(u1*u2)\n",
        "  #calc magnitude\n",
        "  magnitude1= np.sqrt(np.sum(u1**2))\n",
        "  magnitude2= np.sqrt(np.sum(u2**2))\n",
        "\n",
        "  #calccosine\n",
        "  if magnitude1 == 0 or magnitude2 ==0:\n",
        "    return 0\n",
        "  return dot_product / (magnitude1 * magnitude2)\n",
        "user_a=np.array([5,3,0,4,0,2])\n",
        "user_b=np.array([3,0,2,3,3,0])\n",
        "user_c=np.array([4,3,4,3,5,3])\n",
        "similarity_ab = cossine_similarity (user_a,user_b)\n",
        "similarity_ac = cossine_similarity (user_a,user_c)\n",
        "print(f\"cosine similarity a-b: {similarity_ab}\")\n",
        "print(f\"cosine similarity a-c: {similarity_ac}\")"
      ],
      "metadata": {
        "colab": {
          "base_uri": "https://localhost:8080/"
        },
        "id": "kkD71G3Xqq2p",
        "outputId": "b6fcae8a-f648-49e2-c8ee-9d0ba0a95644"
      },
      "execution_count": 4,
      "outputs": [
        {
          "output_type": "stream",
          "name": "stdout",
          "text": [
            "cosine similarity a-b: 0.9938837346736189\n",
            "cosine similarity a-c: 0.9753640633046815\n"
          ]
        }
      ]
    }
  ]
}