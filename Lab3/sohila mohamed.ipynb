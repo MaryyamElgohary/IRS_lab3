{
 "cells": [
  {
   "cell_type": "code",
   "execution_count": null,
   "id": "8bdfff9f-e5b2-418c-a536-9924e1caabe1",
   "metadata": {},
   "outputs": [],
   "source": [
    "import numpy as np\n",
    "def cosine_similarity(user1, user2):\n",
    "\"'\"Calculate cosine similarity between two users\"\"\"\n",
    "# Get common rated items (non-zero entries)\n",
    "mask = (user1 |= 0) & (user2 |= 0)\n",
    "if not ap.any (mask):\n",
    "return 0\n",
    "u1 = user1 [mask]\n",
    "u2 = user2[mask]\n",
    "# Calculate dot product\n",
    "dot_product = np.sum1 *u2)\n",
    "# Calculate magnitudes\n",
    "magnitude1 = np.sqrt (np.sum(u1**2))\n",
    "magnitude2 = np.sqrt (np.sum(u2**2))\n",
    "# Calculate cosine similarity\n",
    "if magnitude1 == 0 or magnitude2 == 0:\n",
    "return 0\n",
    "return dot_product / (magnitude1 * magnitude2)\n",
    "# Example usage with our dataset import numpy as np\n",
    "\n",
    "def cosine_similarity(user1, user2):\n",
    "    mask = (user1 != 0) & (user2 != 0)\n",
    "\n",
    "    if not np.any(mask):\n",
    "        return 0\n",
    "\n",
    "    u1 = user1[mask]\n",
    "    u2 = user2[mask]\n",
    "\n",
    "    dot_product = np.sum(u1 * u2)\n",
    "\n",
    "    magnitude1 = np.sqrt(np.sum(u1**2))\n",
    "    magnitude2 = np.sqrt(np.sum(u2**2))\n",
    "\n",
    "    if magnitude1 == 0 or magnitude2 == 0:\n",
    "        return 0\n",
    "\n",
    "    return dot_product / (magnitude1 * magnitude2)"
   ]
  },
  {
   "cell_type": "code",
   "execution_count": null,
   "id": "ae20cf3f-d255-4f8a-a6e0-b937c1232f92",
   "metadata": {},
   "outputs": [],
   "source": []
  }
 ],
 "metadata": {
  "kernelspec": {
   "display_name": "Python 3 (ipykernel)",
   "language": "python",
   "name": "python3"
  },
  "language_info": {
   "codemirror_mode": {
    "name": "ipython",
    "version": 3
   },
   "file_extension": ".py",
   "mimetype": "text/x-python",
   "name": "python",
   "nbconvert_exporter": "python",
   "pygments_lexer": "ipython3",
   "version": "3.11.7"
  }
 },
 "nbformat": 4,
 "nbformat_minor": 5
}
