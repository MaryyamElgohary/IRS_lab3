{
  "nbformat": 4,
  "nbformat_minor": 0,
  "metadata": {
    "colab": {
      "provenance": []
    },
    "kernelspec": {
      "name": "python3",
      "display_name": "Python 3"
    },
    "language_info": {
      "name": "python"
    }
  },
  "cells": [
    {
      "cell_type": "code",
      "execution_count": 3,
      "metadata": {
        "colab": {
          "base_uri": "https://localhost:8080/",
          "height": 106
        },
        "id": "ba2d5KDCsPHf",
        "outputId": "1d442f3f-d7a6-469a-d84b-cb1222b67fc2"
      },
      "outputs": [
        {
          "output_type": "error",
          "ename": "SyntaxError",
          "evalue": "unmatched ')' (ipython-input-3017384801.py, line 11)",
          "traceback": [
            "\u001b[0;36m  File \u001b[0;32m\"/tmp/ipython-input-3017384801.py\"\u001b[0;36m, line \u001b[0;32m11\u001b[0m\n\u001b[0;31m    dot_product = np.sum1 *u2)\u001b[0m\n\u001b[0m                             ^\u001b[0m\n\u001b[0;31mSyntaxError\u001b[0m\u001b[0;31m:\u001b[0m unmatched ')'\n"
          ]
        }
      ],
      "source": [
        "import numpy as np\n",
        "def cosine_similarity(user1, user2):\n",
        "\"Calculate cosine similarity between two users\"\n",
        "# Get common rated items (non-zero entries)\n",
        "mask = (user1 |= 0) & (user2 |= 0)\n",
        "if not ap.any (mask):\n",
        "return 0\n",
        "u1 = user1 [mask]\n",
        "u2 = user2[mask]\n",
        "# Calculate dot product\n",
        "dot_product = np.sum1 *u2)\n",
        "# Calculate magnitudes\n",
        "magnitude1 = np.sqrt (np.sum(u1**2))\n",
        "magnitude2 = np.sqrt (np.sum(u2**2))\n",
        "# Calculate cosine similarity\n",
        "if magnitude1 == 0 or magnitude2 == 0:\n",
        "return 0\n",
        "return dot_product / (magnitude1 * magnitude2)\n",
        "# Example usage with our dataset"
      ]
    },
    {
      "cell_type": "code",
      "source": [
        "import numpy as np\n",
        "\n",
        "def cosine_similarity(user1, user2):\n",
        "    mask = (user1 != 0) & (user2 != 0)\n",
        "\n",
        "    if not np.any(mask):\n",
        "        return 0\n",
        "\n",
        "    u1 = user1[mask]\n",
        "    u2 = user2[mask]\n",
        "\n",
        "    dot_product = np.sum(u1 * u2)\n",
        "\n",
        "    magnitude1 = np.sqrt(np.sum(u1**2))\n",
        "    magnitude2 = np.sqrt(np.sum(u2**2))\n",
        "\n",
        "    if magnitude1 == 0 or magnitude2 == 0:\n",
        "        return 0\n",
        "\n",
        "    return dot_product / (magnitude1 * magnitude2)"
      ],
      "metadata": {
        "id": "f_VdLwRiuKVe"
      },
      "execution_count": 2,
      "outputs": []
    }
  ]
}