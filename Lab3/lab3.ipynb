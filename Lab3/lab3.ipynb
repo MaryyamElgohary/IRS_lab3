{
  "nbformat": 4,
  "nbformat_minor": 0,
  "metadata": {
    "colab": {
      "provenance": []
    },
    "kernelspec": {
      "name": "python3",
      "display_name": "Python 3"
    },
    "language_info": {
      "name": "python"
    }
  },
  "cells": [
    {
      "cell_type": "code",
      "source": [
        "import numpy as np\n",
        "\n",
        "def cosine_similarity(user1, user2):\n",
        "    mask = (user1 != 0) & (user2 != 0)\n",
        "\n",
        "    if not np.any(mask):\n",
        "        return 0\n",
        "\n",
        "    u1 = user1[mask]\n",
        "    u2 = user2[mask]\n",
        "\n",
        "    dot_product = np.sum(u1 * u2)\n",
        "\n",
        "    magnitude1 = np.sqrt(np.sum(u1**2))\n",
        "    magnitude2 = np.sqrt(np.sum(u2**2))\n",
        "\n",
        "    if magnitude1 == 0 or magnitude2 == 0:\n",
        "        return 0\n",
        "\n",
        "    return dot_product / (magnitude1 * magnitude2)\n",
        ""
      ],
      "metadata": {
        "id": "ZTIa63SnrOod"
      },
      "execution_count": 8,
      "outputs": []
    },
    {
      "cell_type": "code",
      "source": [
        "user_A= np.array([5,3,0,4,0,2])\n",
        "user_B= np.array([3,0,2,3,3,0])\n",
        "user_C= np.array([4,3,4,3,5,3])\n",
        "\n",
        "similarity_AB= cosine_similarity(user_A, user_B)\n",
        "similarity_AC= cosine_similarity(user_A, user_C)\n",
        "\n",
        "print(f\"Cosine similarity between User A and User B: {similarity_AB}\")\n",
        "print(f\"Cosine similarity between User A and User C: {similarity_AC}\")"
      ],
      "metadata": {
        "colab": {
          "base_uri": "https://localhost:8080/"
        },
        "id": "UhLZQRwRtFKT",
        "outputId": "bc8993ab-15ac-4e51-fe7b-c928889adb67"
      },
      "execution_count": 9,
      "outputs": [
        {
          "output_type": "stream",
          "name": "stdout",
          "text": [
            "Cosine similarity between User A and User B: 0.9938837346736189\n",
            "Cosine similarity between User A and User C: 0.9753640633046815\n"
          ]
        }
      ]
    }
  ]
}