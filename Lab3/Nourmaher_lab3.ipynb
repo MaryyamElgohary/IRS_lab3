{
 "cells": [
  {
   "cell_type": "code",
   "execution_count": 1,
   "id": "5294b410",
   "metadata": {},
   "outputs": [],
   "source": [
    "#nour maher AIIE 221101140\n",
    "import numpy as np"
   ]
  },
  {
   "cell_type": "code",
   "execution_count": 2,
   "metadata": {},
   "outputs": [],
   "source": [
    "#creating function\n",
    "\n",
    "def cos_sim(user1,user2):\n",
    "    \n",
    "    mask = (user1 != 0) & (user2 != 0)\n",
    "\n",
    "    if not np.any(mask):\n",
    "        return 0\n",
    "    \n",
    "    u1= user1[mask]\n",
    "    u2= user2[mask]\n",
    "\n",
    "    dotp=np.sum(u1 * u2)\n",
    "    mag1= np.sqrt(np.sum(u1**u2))\n",
    "    mag2= np.sqrt(np.sum(u2**u2))\n",
    "\n",
    "    if mag1 ==0 or mag2 == 0:\n",
    "        return 0\n",
    "    \n",
    "    return dotp/(mag1 * mag2)"
   ]
  },
  {
   "cell_type": "code",
   "execution_count": 3,
   "metadata": {},
   "outputs": [
    {
     "name": "stdout",
     "output_type": "stream",
     "text": [
      "AB similarity 0.2672612419124244\n",
      "AC similarity 0.09515105860492076\n"
     ]
    }
   ],
   "source": [
    "#test run\n",
    "\n",
    "\n",
    "A = np.array ([5,3,0,4,0,2])\n",
    "B = np.array ([3,0,2,3,3,0])\n",
    "C = np.array ([4,3,4,3,5,3])\n",
    "\n",
    "simAB = cos_sim(A,B) \n",
    "\n",
    "simAC = cos_sim(A,C) \n",
    "\n",
    "print(f\"AB similarity {simAB}\")\n",
    "print(f\"AC similarity {simAC}\")\n"
   ]
  }
 ],
 "metadata": {
  "kernelspec": {
   "display_name": "Python 3",
   "language": "python",
   "name": "python3"
  },
  "language_info": {
   "codemirror_mode": {
    "name": "ipython",
    "version": 3
   },
   "file_extension": ".py",
   "mimetype": "text/x-python",
   "name": "python",
   "nbconvert_exporter": "python",
   "pygments_lexer": "ipython3",
   "version": "3.10.5"
  }
 },
 "nbformat": 4,
 "nbformat_minor": 5
}
