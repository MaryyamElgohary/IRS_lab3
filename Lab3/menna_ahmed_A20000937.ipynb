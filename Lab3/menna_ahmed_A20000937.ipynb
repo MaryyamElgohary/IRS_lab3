{
  "nbformat": 4,
  "nbformat_minor": 0,
  "metadata": {
    "colab": {
      "provenance": []
    },
    "kernelspec": {
      "name": "python3",
      "display_name": "Python 3"
    },
    "language_info": {
      "name": "python"
    }
  },
  "cells": [
    {
      "cell_type": "code",
      "execution_count": null,
      "metadata": {
        "id": "piGkosWGr6Nd"
      },
      "outputs": [],
      "source": [
        "import numpy as np\n",
        "def cosine_similarity(user1, user2):\n",
        "  mask = (user1 |= 0) & (user2 |= 0)\n",
        "  if not ap.any (mask):\n",
        "  return 0\n",
        "  u1 = user1 [mask]\n",
        "  u2 = user2[mask]\n",
        "  dot_product = np.sum1 *u2)\n",
        "  magnitude1 = np.sqrt (np.sum(u1**2))\n",
        "  magnitude2 = np.sqrt (np.sum(u2**2))\n",
        "  if magnitude1 == 0 or magnitude2 == 0:\n",
        "  return 0\n",
        "  return dot_product / (magnitude1 * magnitude2)\n"
      ]
    },
    {
      "cell_type": "code",
      "source": [
        "user_a= np.array([5,3,0,4,0,2])\n",
        "user_b= np.array([3,0,2,3,3,0])\n",
        "user_c= np.array([4,3,4,3,5,3])\n",
        "\n",
        "similarity_AB= cosine_similarity(user_A, user_B)\n",
        "similarity_AC= cosine_similarity(user_A, user_c)\n"
      ],
      "metadata": {
        "id": "N_x97SCqspGS"
      },
      "execution_count": null,
      "outputs": []
    }
  ]
}