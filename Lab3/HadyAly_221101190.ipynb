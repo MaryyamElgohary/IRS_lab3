{
 "cells": [
  {
   "cell_type": "code",
   "execution_count": 5,
   "id": "91bfae73",
   "metadata": {},
   "outputs": [
    {
     "ename": "IndentationError",
     "evalue": "expected an indented block after 'if' statement on line 11 (78346949.py, line 13)",
     "output_type": "error",
     "traceback": [
      "\u001b[1;36m  Cell \u001b[1;32mIn[5], line 13\u001b[1;36m\u001b[0m\n\u001b[1;33m    return 0\u001b[0m\n\u001b[1;37m    ^\u001b[0m\n\u001b[1;31mIndentationError\u001b[0m\u001b[1;31m:\u001b[0m expected an indented block after 'if' statement on line 11\n"
     ]
    }
   ],
   "source": [
    "import numpy as np\n",
    "\n",
    "def cosine_similarity(useri, user2):\n",
    "\n",
    "    \"\"\"Calculate cosine similarity between two users\"\"\"\n",
    "\n",
    "    #Get common rated items (non-zero entries)\n",
    "\n",
    "    mask (user1 != 0) & (user2 != 0)\n",
    "\n",
    "    if not np.any(mask):\n",
    "\n",
    "    return 0\n",
    "\n",
    "    ul = userl [mask]\n",
    "\n",
    "    u2 = user2 [mask]\n",
    "\n",
    "    #Calculate dot product\n",
    "\n",
    "    dot_product = np.sum(ul * u2)\n",
    "\n",
    "    #Calculate magnitudes\n",
    "\n",
    "    magnitudel = np.sqrt(np.sum(u1**2))\n",
    "\n",
    "    magnitude2 = np.sqrt(np.sum(u2**2))\n",
    "\n",
    "    #Calculate cosine similarity\n",
    "\n",
    "    if magnitudel == 0 or magnitude2 == 0:\n",
    "\n",
    "    return 0\n",
    "\n",
    "    return dot_product/ (magnitudel * magnitude2)\n",
    "\n",
    "# Example usage with our dataset"
   ]
  },
  {
   "cell_type": "code",
   "execution_count": null,
   "id": "fd4c590d",
   "metadata": {},
   "outputs": [],
   "source": [
    "# 0 represents missing ratings\n",
    "\n",
    "user_A = np.array([5, 3, 0, 4, 0, 2])\n",
    "\n",
    "user_B = np.array([3, 0, 2, 3, 3, 0])\n",
    "\n",
    "user_C = np.array([4, 3, 4, 3, 5, 3])\n",
    "\n",
    "similarity_AB = cosine_similarity(user_A, user_B)\n",
    "\n",
    "similarity_AC = cosine_similarity(user_A, user_C)\n",
    "\n",
    "print (f\"Cosine Similarity A-B: (similarity_AB:.3f)\")\n",
    "\n",
    "print (f\"Cosine Similarity A-C: (similarity_AC:.3f)\")\n",
    "\n",
    "# Output:\n",
    "\n",
    "#Cosine Similarity A-B: 0.994\n",
    "\n",
    "#Cosine Similarity A-C: 0.975"
   ]
  }
 ],
 "metadata": {
  "kernelspec": {
   "display_name": "Python 3 (ipykernel)",
   "language": "python",
   "name": "python3"
  },
  "language_info": {
   "codemirror_mode": {
    "name": "ipython",
    "version": 3
   },
   "file_extension": ".py",
   "mimetype": "text/x-python",
   "name": "python",
   "nbconvert_exporter": "python",
   "pygments_lexer": "ipython3",
   "version": "3.11.5"
  }
 },
 "nbformat": 4,
 "nbformat_minor": 5
}
