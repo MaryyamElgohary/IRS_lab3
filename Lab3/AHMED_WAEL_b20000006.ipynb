{
 "cells": [
  {
   "cell_type": "code",
   "execution_count": 3,
   "id": "bb5553b0-b91e-4387-ad43-0e9286e8d6ac",
   "metadata": {},
   "outputs": [
    {
     "ename": "IndentationError",
     "evalue": "expected an indented block (2020177660.py, line 3)",
     "output_type": "error",
     "traceback": [
      "\u001b[1;36m  Cell \u001b[1;32mIn[3], line 3\u001b[1;36m\u001b[0m\n\u001b[1;33m    \"'\"Calculate cosine similarity between two users\"\u001b[0m\n\u001b[1;37m    ^\u001b[0m\n\u001b[1;31mIndentationError\u001b[0m\u001b[1;31m:\u001b[0m expected an indented block\n"
     ]
    }
   ],
   "source": [
    "import numpy as np\n",
    "def cosine_similarity(user1, user2):\n",
    "\"'\"Calculate cosine similarity between two users\"\n",
    "# Get common rated items (non-zero entries)\n",
    "mask = (user1 |= 0) & (user2 |= 0)\n",
    "if not ap.any (mask):\n",
    "return 0\n",
    "u1 = user1 [mask]\n",
    "u2 = user2[mask]\n",
    "# Calculate dot product\n",
    "dot_product = np.sum1 *u2)\n",
    "# Calculate magnitudes\n",
    "magnitude1 = np.sqrt (np.sum(u1**2))\n",
    "magnitude2 = np.sqrt (np.sum(u2**2))\n",
    "# Calculate cosine similarity\n",
    "if magnitude1 == 0 or magnitude2 == 0:\n",
    "return 0\n",
    "return dot_product / (magnitude1 * magnitude2)\n",
    "# Example usage with our dataset\n"
   ]
  },
  {
   "cell_type": "code",
   "execution_count": null,
   "id": "97ac9c42-39bb-44bd-a50d-b3f4507fcbbf",
   "metadata": {},
   "outputs": [],
   "source": []
  },
  {
   "cell_type": "code",
   "execution_count": 3,
   "id": "c0b83bc8-1489-4cdc-bac3-f5b63bbcd10d",
   "metadata": {},
   "outputs": [
    {
     "ename": "IndentationError",
     "evalue": "expected an indented block (2020177660.py, line 3)",
     "output_type": "error",
     "traceback": [
      "\u001b[1;36m  Cell \u001b[1;32mIn[3], line 3\u001b[1;36m\u001b[0m\n\u001b[1;33m    \"'\"Calculate cosine similarity between two users\"\u001b[0m\n\u001b[1;37m    ^\u001b[0m\n\u001b[1;31mIndentationError\u001b[0m\u001b[1;31m:\u001b[0m expected an indented block\n"
     ]
    }
   ],
   "source": [
    "import numpy as np\n",
    "def cosine_similarity(user1, user2):\n",
    "\"'\"Calculate cosine similarity between two users\"\n",
    "# Get common rated items (non-zero entries)\n",
    "mask = (user1 |= 0) & (user2 |= 0)\n",
    "if not ap.any (mask):\n",
    "return 0\n",
    "u1 = user1 [mask]\n",
    "u2 = user2[mask]\n",
    "# Calculate dot product\n",
    "dot_product = np.sum1 *u2)\n",
    "# Calculate magnitudes\n",
    "magnitude1 = np.sqrt (np.sum(u1**2))\n",
    "magnitude2 = np.sqrt (np.sum(u2**2))\n",
    "# Calculate cosine similarity\n",
    "if magnitude1 == 0 or magnitude2 == 0:\n",
    "return 0\n",
    "return dot_product / (magnitude1 * magnitude2)\n",
    "# Example usage with our dataset\n"
   ]
  },
  {
   "cell_type": "code",
   "execution_count": 2,
   "id": "eae47e60-e635-415f-9753-3c32549ae7e9",
   "metadata": {},
   "outputs": [],
   "source": [
    "import numpy as np\n",
    "\n",
    "def cosine_similarity(user1, user2):\n",
    "    mask = (user1 != 0) & (user2 != 0)\n",
    "\n",
    "    if not np.any(mask):\n",
    "        return 0\n",
    "\n",
    "    u1 = user1[mask]\n",
    "    u2 = user2[mask]\n",
    "\n",
    "    dot_product = np.sum(u1 * u2)\n",
    "\n",
    "    magnitude1 = np.sqrt(np.sum(u1**2))\n",
    "    magnitude2 = np.sqrt(np.sum(u2**2))\n",
    "\n",
    "    if magnitude1 == 0 or magnitude2 == 0:\n",
    "        return 0\n",
    "\n",
    "    return dot_product / (magnitude1 * magnitude2)"
   ]
  },
  {
   "cell_type": "code",
   "execution_count": null,
   "id": "c61a1cdf-d3ad-4801-bdc1-a849b9ea023a",
   "metadata": {},
   "outputs": [],
   "source": []
  }
 ],
 "metadata": {
  "kernelspec": {
   "display_name": "Python [conda env:tf-gpu]",
   "language": "python",
   "name": "conda-env-tf-gpu-py"
  },
  "language_info": {
   "codemirror_mode": {
    "name": "ipython",
    "version": 3
   },
   "file_extension": ".py",
   "mimetype": "text/x-python",
   "name": "python",
   "nbconvert_exporter": "python",
   "pygments_lexer": "ipython3",
   "version": "3.9.23"
  }
 },
 "nbformat": 4,
 "nbformat_minor": 5
}
